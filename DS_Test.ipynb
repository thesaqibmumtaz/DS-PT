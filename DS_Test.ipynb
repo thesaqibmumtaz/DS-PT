{
  "nbformat": 4,
  "nbformat_minor": 0,
  "metadata": {
    "colab": {
      "provenance": [],
      "include_colab_link": true
    },
    "kernelspec": {
      "name": "python3",
      "display_name": "Python 3"
    },
    "language_info": {
      "name": "python"
    }
  },
  "cells": [
    {
      "cell_type": "markdown",
      "metadata": {
        "id": "view-in-github",
        "colab_type": "text"
      },
      "source": [
        "<a href=\"https://colab.research.google.com/github/thesaqibmumtaz/DS-PT/blob/main/DS_Test.ipynb\" target=\"_parent\"><img src=\"https://colab.research.google.com/assets/colab-badge.svg\" alt=\"Open In Colab\"/></a>"
      ]
    },
    {
      "cell_type": "code",
      "execution_count": null,
      "metadata": {
        "id": "3bpZ3ba7BvW_"
      },
      "outputs": [],
      "source": [
        "#using longitude and latitide\n",
        "import requests\n",
        "\n",
        "api_key = \"API KEY\"\n",
        "latitude = 35.2238\n",
        "longitude = -80.614773\n",
        "width = 1500\n",
        "height = 1500\n",
        "\n",
        "url = \"https://maps.googleapis.com/maps/api/staticmap\"\n",
        "url += \"?center=\" + str(latitude) + \",\" + str(longitude)\n",
        "url += \"&size=\" + str(width) + \"x\" + str(height)\n",
        "url += \"&key=\" + api_key\n",
        "response = requests.get(url)\n",
        "with open(\"top_footage.png\", \"wb\") as file:\n",
        "    file.write(response.content)\n"
      ]
    },
    {
      "cell_type": "code",
      "source": [
        "#using address\n",
        "import requests\n",
        "\n",
        "api_key = \"API KEY\"\n",
        "address = \"11111 Arlington Church Rd, Charlotte, NC 28227, USA\"\n",
        "width = 1500\n",
        "height = 1500\n",
        "zoom = 20\n",
        "# tilt = 45\n",
        "url = \"https://maps.googleapis.com/maps/api/staticmap\"\n",
        "url += \"?center=\" + str(address)\n",
        "url += \"&size=\" + str(width) + \"x\" + str(height)\n",
        "url += \"&maptype=satellite\"\n",
        "# url += \"&tilt=\" + str(tilt)\n",
        "url += \"&zoom=\" + str(zoom) \n",
        "url += \"&key=\" + api_key\n",
        "response = requests.get(url)\n",
        "with open(\"top_footage.png\", \"wb\") as file:\n",
        "    file.write(response.content)\n"
      ],
      "metadata": {
        "id": "KswqQ2AJC9cF"
      },
      "execution_count": 13,
      "outputs": []
    },
    {
      "cell_type": "code",
      "source": [
        "import cv2\n",
        "import numpy as np\n",
        "import mapper\n",
        "\n",
        "image=cv2.imread(\"top_footage.jpg\")\n",
        "image=cv2.resize(image,(1000,800)) #resizing cuz cv2 doesn't well with large images\n",
        "orig=image.copy()\n",
        "\n",
        "gray=cv2.cvtColor(image,cv2.COLOR_BGR2GRAY)  #RGB To Gray conversion\n",
        "# cv2_imshow(\"Title\",gray) #if you are using jupiter then change this command to cv2.imshow and for colab this command is correct to use.\n",
        "\n",
        "blurred=cv2.GaussianBlur(gray,(5,5),0)  #(5,5) is kernel size and 0 is sigma value i.e. amount of blur\n",
        "# cv2_imshow(\"Blur\",blurred)\n",
        "\n",
        "edged=cv2.Canny(blurred,35,50)  #Threshold\n",
        "# cv2_imshow(\"Canny\",edged)\n",
        "\n",
        "contours,hierarchy=cv2.findContours(edged,cv2.RETR_LIST,cv2.CHAIN_APPROX_SIMPLE)  #apprximation model\n",
        "contours=sorted(contours,key=cv2.contourArea,reverse=True)\n",
        "\n",
        "#the loop extracts the boundary contours of the image\n",
        "for c in contours:\n",
        "    p=cv2.arcLength(c,True)\n",
        "    approx=cv2.approxPolyDP(c,0.02*p,True)\n",
        "\n",
        "    if len(approx)==4:\n",
        "        target=approx\n",
        "        break\n",
        "approx=mapper.mapp(target) #find endpoints\n",
        "\n",
        "pts=np.float32([[0,0],[770,0],[770,770],[0,770]])  #map to 800*800 target window_-Changed to 770*770\n",
        "\n",
        "op=cv2.getPerspectiveTransform(approx,pts)  #get the bird eye view effect\n",
        "dst=cv2.warpPerspective(orig,op,(770,770))\n",
        "\n",
        "print(dst.shape)\n",
        "status = cv2.imwrite('top_footage1.jpg', dst)\n",
        "\n",
        "print(\"Image written to file-system : \", status)\n",
        "cv2.waitKey(0)\n",
        "cv2.destroyAllWindows()"
      ],
      "metadata": {
        "colab": {
          "base_uri": "https://localhost:8080/"
        },
        "id": "6NW6RR8Kik3e",
        "outputId": "ca2f70ca-f55c-4269-bd48-7b4ee70d5ad4"
      },
      "execution_count": null,
      "outputs": [
        {
          "output_type": "stream",
          "name": "stdout",
          "text": [
            "(770, 770, 3)\n",
            "Image written to file-system :  True\n"
          ]
        }
      ]
    },
    {
      "cell_type": "code",
      "source": [
        "#for area conversion of pixel to square feet"
      ],
      "metadata": {
        "id": "eFydJiHCoQBn"
      },
      "execution_count": 1,
      "outputs": []
    },
    {
      "cell_type": "code",
      "source": [
        "import cv2\n",
        "import numpy as np\n",
        "\n",
        "# Load the image\n",
        "image = cv2.imread('top_footage1.jpg')\n",
        "\n",
        "# Convert the image to grayscale\n",
        "gray = cv2.cvtColor(image, cv2.COLOR_BGR2GRAY)\n",
        "\n",
        "# Use Otsu's thresholding method to detect edges in the image\n",
        "ret, thresh = cv2.threshold(gray, 0, 255, cv2.THRESH_BINARY_INV + cv2.THRESH_OTSU)\n",
        "\n",
        "# Find contours in the image\n",
        "contours, hierarchy = cv2.findContours(thresh, cv2.RETR_EXTERNAL, cv2.CHAIN_APPROX_SIMPLE)\n",
        "\n",
        "# Find the contour with the maximum area\n",
        "max_area = 0\n",
        "max_cnt = None\n",
        "for cnt in contours:\n",
        "    area = cv2.contourArea(cnt)\n",
        "    if area > max_area:\n",
        "        max_area = area\n",
        "        max_cnt = cnt\n",
        "\n",
        "# Calculate the area of the building in square pixels\n",
        "area_pixels = max_area\n",
        "\n",
        "# Set the conversion factor from pixels to feet\n",
        "conversion_factor = 0.1607973\n",
        "\n",
        "# Calculate the area of the building in square feet\n",
        "area_feet = area_pixels * conversion_factor\n",
        "\n",
        "# Print the area of the building in square feet\n",
        "print(f'Area of the building: {area_feet:.2f} square feet')\n"
      ],
      "metadata": {
        "colab": {
          "base_uri": "https://localhost:8080/"
        },
        "id": "Cs2FhLqYoVUy",
        "outputId": "af19e913-75fb-4190-8ac6-6eaea6bec4f4"
      },
      "execution_count": 12,
      "outputs": [
        {
          "output_type": "stream",
          "name": "stdout",
          "text": [
            "Area of the building: 4985.92 square feet\n"
          ]
        }
      ]
    }
  ]
}
